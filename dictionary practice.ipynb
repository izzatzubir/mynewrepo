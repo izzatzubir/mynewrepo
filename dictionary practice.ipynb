{
 "cells": [
  {
   "cell_type": "code",
   "execution_count": 10,
   "id": "beea2cc7",
   "metadata": {},
   "outputs": [
    {
     "name": "stdout",
     "output_type": "stream",
     "text": [
      "{'I': 1, 'z': 2, 'a': 3, 't': 1, 'S': 1, 'r': 1}\n"
     ]
    }
   ],
   "source": [
    "name = \"Izzat Sara\"\n",
    "my_name = {}\n",
    "for char in name:\n",
    "    if char != \" \":\n",
    "        my_name[char] = name.count(char)\n",
    "print(my_name)"
   ]
  },
  {
   "cell_type": "code",
   "execution_count": 11,
   "id": "d05e01bf",
   "metadata": {},
   "outputs": [
    {
     "name": "stdout",
     "output_type": "stream",
     "text": [
      "The letter I appears in my name once\n",
      "The letter z appears in my name twice\n",
      "The letter a appears in my name 3 times\n",
      "The letter t appears in my name once\n",
      "The letter S appears in my name once\n",
      "The letter r appears in my name once\n"
     ]
    }
   ],
   "source": [
    "for char,count in my_name.items():\n",
    "    if (count) == 1:\n",
    "        print(\"The letter\", char, \"appears in my name once\")\n",
    "    elif (count)==2:\n",
    "        print(\"The letter\", char, \"appears in my name twice\")\n",
    "    elif char == ():\n",
    "        pass\n",
    "    else:\n",
    "        print(\"The letter\", char, \"appears in my name\", count, \"times\")"
   ]
  },
  {
   "cell_type": "code",
   "execution_count": 12,
   "id": "a0f2aeb3",
   "metadata": {},
   "outputs": [],
   "source": [
    "class_info = {'student1':{\"name\":\"Izzat\",\n",
    "                         \"university\":\"USM\"}}"
   ]
  },
  {
   "cell_type": "code",
   "execution_count": 13,
   "id": "47af888a",
   "metadata": {},
   "outputs": [],
   "source": [
    "state_capitals = {\n",
    "  \"Alaska\" : \"Juneau\",\n",
    "  \"Colorado\" : \"Denver\",\n",
    "  \"Oregon\" : \"Salem\",\n",
    "  \"Texas\" : \"Austin\"\n",
    "  }"
   ]
  },
  {
   "cell_type": "code",
   "execution_count": 19,
   "id": "47f29edf",
   "metadata": {},
   "outputs": [],
   "source": [
    "def reverse_lookup(capital_input):\n",
    "    for state,capital in state_capitals.items():\n",
    "        if capital == capital_input:\n",
    "            return state\n",
    "    "
   ]
  },
  {
   "cell_type": "code",
   "execution_count": 18,
   "id": "9073716b",
   "metadata": {},
   "outputs": [
    {
     "data": {
      "text/plain": [
       "''"
      ]
     },
     "execution_count": 18,
     "metadata": {},
     "output_type": "execute_result"
    }
   ],
   "source": [
    "reverse_lookup(\"Texas\")"
   ]
  },
  {
   "cell_type": "code",
   "execution_count": null,
   "id": "d5dab332",
   "metadata": {},
   "outputs": [],
   "source": []
  }
 ],
 "metadata": {
  "kernelspec": {
   "display_name": "Python 3",
   "language": "python",
   "name": "python3"
  },
  "language_info": {
   "codemirror_mode": {
    "name": "ipython",
    "version": 3
   },
   "file_extension": ".py",
   "mimetype": "text/x-python",
   "name": "python",
   "nbconvert_exporter": "python",
   "pygments_lexer": "ipython3",
   "version": "3.8.8"
  }
 },
 "nbformat": 4,
 "nbformat_minor": 5
}
